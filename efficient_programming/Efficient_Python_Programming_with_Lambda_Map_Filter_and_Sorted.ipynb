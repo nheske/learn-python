{
  "nbformat": 4,
  "nbformat_minor": 0,
  "metadata": {
    "colab": {
      "name": "Efficient_Python_Programming_with_Lambda_Map_Filter_and_Sorted.ipynb",
      "provenance": [],
      "authorship_tag": "ABX9TyOXZRfBlxg1+1TIC+Qu2IHh",
      "include_colab_link": true
    },
    "kernelspec": {
      "name": "python3",
      "display_name": "Python 3"
    }
  },
  "cells": [
    {
      "cell_type": "markdown",
      "metadata": {
        "id": "view-in-github",
        "colab_type": "text"
      },
      "source": [
        "<a href=\"https://colab.research.google.com/github/nheske/learn-python/blob/main/efficient_python_programming_with_lambda_map_filter_and_sort/Efficient_Python_Programming_with_Lambda_Map_Filter_and_Sorted.ipynb\" target=\"_parent\"><img src=\"https://colab.research.google.com/assets/colab-badge.svg\" alt=\"Open In Colab\"/></a>"
      ]
    },
    {
      "cell_type": "code",
      "metadata": {
        "id": "eTxYDD59J6cP"
      },
      "source": [
        "# based on Efficient Python Programming with Lambda, Map, Filter, and Sorted at https://towardsdatascience.com/efficient-python-programming-with-lambda-map-filter-and-sorted-cfdf536afc36\r\n"
      ],
      "execution_count": null,
      "outputs": []
    },
    {
      "cell_type": "code",
      "metadata": {
        "id": "OCDnraN2KpSA"
      },
      "source": [
        "# Lambda \r\n",
        "squared = lambda x: x*x\r\n",
        "squared(5)"
      ],
      "execution_count": null,
      "outputs": []
    },
    {
      "cell_type": "code",
      "metadata": {
        "colab": {
          "base_uri": "https://localhost:8080/"
        },
        "id": "aWPRInG6KcY3",
        "outputId": "876b4ac7-6058-459d-cbfa-f951946de4d3"
      },
      "source": [
        "add = lambda x, y: x+y\r\n",
        "add(4,5)"
      ],
      "execution_count": 2,
      "outputs": [
        {
          "output_type": "execute_result",
          "data": {
            "text/plain": [
              "9"
            ]
          },
          "metadata": {
            "tags": []
          },
          "execution_count": 2
        }
      ]
    },
    {
      "cell_type": "code",
      "metadata": {
        "colab": {
          "base_uri": "https://localhost:8080/"
        },
        "id": "oEdCUt33Kkj-",
        "outputId": "11097590-a52b-4e29-c4e2-f7a1b817c80f"
      },
      "source": [
        "# Map \r\n",
        "# The map takes lists and a function and returns the list, modified by the function\r\n",
        "a = [3,4,5,2,7,8]\r\n",
        "b = [7,9,2,4,5,1]\r\n",
        "c = [5,7,3,4,5,9]\r\n",
        "add(a,b)\r\n",
        "# typical element-wise add of two lists\r\n",
        "res = []\r\n",
        "for i in range(0, len(a)):\r\n",
        "    res.append(a[i]+ b[i])\r\n",
        "res"
      ],
      "execution_count": 3,
      "outputs": [
        {
          "output_type": "execute_result",
          "data": {
            "text/plain": [
              "[10, 13, 7, 6, 12, 9]"
            ]
          },
          "metadata": {
            "tags": []
          },
          "execution_count": 3
        }
      ]
    },
    {
      "cell_type": "code",
      "metadata": {
        "colab": {
          "base_uri": "https://localhost:8080/"
        },
        "id": "0UV7wLaLLffe",
        "outputId": "8d35c9b6-e3d8-485e-dde5-240a001e06e0"
      },
      "source": [
        "# Map works exactly like a ‘for loop’\r\n",
        "list(map(add, a, b))"
      ],
      "execution_count": 4,
      "outputs": [
        {
          "output_type": "execute_result",
          "data": {
            "text/plain": [
              "[10, 13, 7, 6, 12, 9]"
            ]
          },
          "metadata": {
            "tags": []
          },
          "execution_count": 4
        }
      ]
    },
    {
      "cell_type": "code",
      "metadata": {
        "colab": {
          "base_uri": "https://localhost:8080/"
        },
        "id": "8fmUR0irSu-d",
        "outputId": "a7bb2e32-7b87-4ce4-d9fd-a6970eabed3f"
      },
      "source": [
        "list(map(lambda x, y: x+y, a, b))"
      ],
      "execution_count": 5,
      "outputs": [
        {
          "output_type": "execute_result",
          "data": {
            "text/plain": [
              "[10, 13, 7, 6, 12, 9]"
            ]
          },
          "metadata": {
            "tags": []
          },
          "execution_count": 5
        }
      ]
    },
    {
      "cell_type": "code",
      "metadata": {
        "colab": {
          "base_uri": "https://localhost:8080/"
        },
        "id": "JVnfwvvYTEk3",
        "outputId": "cb6c8b4c-31e3-4916-a8e1-4decaf18852a"
      },
      "source": [
        "list(map(lambda x, y, z: x+y+z, a, b, c))"
      ],
      "execution_count": 6,
      "outputs": [
        {
          "output_type": "execute_result",
          "data": {
            "text/plain": [
              "[15, 20, 10, 10, 17, 18]"
            ]
          },
          "metadata": {
            "tags": []
          },
          "execution_count": 6
        }
      ]
    },
    {
      "cell_type": "code",
      "metadata": {
        "colab": {
          "base_uri": "https://localhost:8080/"
        },
        "id": "84UHXLntTLkO",
        "outputId": "b357ba31-d289-4f25-e211-cfca3a5ab0df"
      },
      "source": [
        "list(map(lambda x, y, z: 2*x + 2.5*y + z, a, b, c))"
      ],
      "execution_count": 7,
      "outputs": [
        {
          "output_type": "execute_result",
          "data": {
            "text/plain": [
              "[28.5, 37.5, 18.0, 18.0, 31.5, 27.5]"
            ]
          },
          "metadata": {
            "tags": []
          },
          "execution_count": 7
        }
      ]
    },
    {
      "cell_type": "code",
      "metadata": {
        "id": "SFR9b0QPTR4B"
      },
      "source": [
        "# Filter\r\n",
        "# The filter takes a list as an argument and a function as the expression"
      ],
      "execution_count": null,
      "outputs": []
    },
    {
      "cell_type": "code",
      "metadata": {
        "colab": {
          "base_uri": "https://localhost:8080/"
        },
        "id": "a6tKWeLKTidr",
        "outputId": "e9e44d5b-4337-47eb-a972-8ce39e39a8c0"
      },
      "source": [
        "# Filter to only greater than 5\r\n",
        "c = [4,2,9,6,10,4,1]\r\n",
        "list(filter(lambda x: x > 5, c))"
      ],
      "execution_count": 10,
      "outputs": [
        {
          "output_type": "execute_result",
          "data": {
            "text/plain": [
              "[9, 6, 10]"
            ]
          },
          "metadata": {
            "tags": []
          },
          "execution_count": 10
        }
      ]
    },
    {
      "cell_type": "code",
      "metadata": {
        "colab": {
          "base_uri": "https://localhost:8080/"
        },
        "id": "lrNkKoNIT20p",
        "outputId": "23f04d90-2f34-4640-9f70-dcb963110361"
      },
      "source": [
        "# filter to those divisible by two\r\n",
        "a = [3,4,5,2,7,8]\r\n",
        "list(filter(lambda x: x % 2==0, a))"
      ],
      "execution_count": 11,
      "outputs": [
        {
          "output_type": "execute_result",
          "data": {
            "text/plain": [
              "[4, 2, 8]"
            ]
          },
          "metadata": {
            "tags": []
          },
          "execution_count": 11
        }
      ]
    },
    {
      "cell_type": "code",
      "metadata": {
        "colab": {
          "base_uri": "https://localhost:8080/"
        },
        "id": "SJZnui1zUL4f",
        "outputId": "1b563189-782d-4a99-c08c-5f2e271a8817"
      },
      "source": [
        "# Filter to start with A\r\n",
        "names = ['Abram', 'Arib', 'Bob', 'Shawn', 'Aria', 'Cicilia', 'John']\r\n",
        "list(filter(lambda x: x[0]=='A', names))"
      ],
      "execution_count": 14,
      "outputs": [
        {
          "output_type": "execute_result",
          "data": {
            "text/plain": [
              "['Abram', 'Arib', 'Aria']"
            ]
          },
          "metadata": {
            "tags": []
          },
          "execution_count": 14
        }
      ]
    },
    {
      "cell_type": "code",
      "metadata": {
        "colab": {
          "base_uri": "https://localhost:8080/"
        },
        "id": "0OtJIinTUrQ7",
        "outputId": "94a136fc-8bad-470e-c3da-8dde5149cc5e"
      },
      "source": [
        "# Sorted\r\n",
        "sorted(names, key=lambda x: x[0])"
      ],
      "execution_count": 15,
      "outputs": [
        {
          "output_type": "execute_result",
          "data": {
            "text/plain": [
              "['Abram', 'Arib', 'Aria', 'Bob', 'Cicilia', 'John', 'Shawn']"
            ]
          },
          "metadata": {
            "tags": []
          },
          "execution_count": 15
        }
      ]
    },
    {
      "cell_type": "code",
      "metadata": {
        "colab": {
          "base_uri": "https://localhost:8080/"
        },
        "id": "EleESdgvU1nf",
        "outputId": "035fec4e-f9b4-4333-936b-c40098730f99"
      },
      "source": [
        "sorted(names)\r\n",
        "sorted(names, reverse=True)"
      ],
      "execution_count": 19,
      "outputs": [
        {
          "output_type": "execute_result",
          "data": {
            "text/plain": [
              "['Bob', 'Arib', 'Aria', 'John', 'Abram', 'Shawn', 'Cicilia']"
            ]
          },
          "metadata": {
            "tags": []
          },
          "execution_count": 19
        }
      ]
    },
    {
      "cell_type": "code",
      "metadata": {
        "colab": {
          "base_uri": "https://localhost:8080/"
        },
        "id": "fVUgpNLcVW9Q",
        "outputId": "e72ad802-9857-4f7b-ade6-6cea63d4fb78"
      },
      "source": [
        "# key sorting \r\n",
        "# Raymond Hettinger Transforming Code into Beautiful, Idiomatic Python https://www.youtube.com/watch?feature=player_embedded&v=OSGv2VnC0go\r\n",
        "# https://speakerdeck.com/pyconslides/transforming-code-into-beautiful-idiomatic-python-by-raymond-hettinger-1\r\n",
        "# https://github.com/JeffPaine/beautiful_idiomatic_python and \r\n",
        "len_sorted = sorted(names, key=len)\r\n",
        "print('len_sorted=',len_sorted)\r\n",
        "# take the second element for sort\r\n",
        "def take_second(elem):\r\n",
        "    return elem[1]\r\n",
        "second_letter_sorted = sorted(names, key=take_second)    \r\n",
        "print('second_letter_sorted=',second_letter_sorted)"
      ],
      "execution_count": 26,
      "outputs": [
        {
          "output_type": "stream",
          "text": [
            "len_sorted= ['Bob', 'Arib', 'Aria', 'John', 'Abram', 'Shawn', 'Cicilia']\n",
            "second_letter_sorted= ['Abram', 'Shawn', 'Cicilia', 'Bob', 'John', 'Arib', 'Aria']\n"
          ],
          "name": "stdout"
        }
      ]
    },
    {
      "cell_type": "code",
      "metadata": {
        "colab": {
          "base_uri": "https://localhost:8080/"
        },
        "id": "znzDS7cVYJj3",
        "outputId": "586aa960-878d-47cd-ffe5-8aa1a5bbb9a7"
      },
      "source": [
        "# Map on a dictionary\r\n",
        "dict_a = [{'name': 'John', 'age': 12},{'name': 'Sonia', 'age': 10},{'name': 'Steven', 'age': 13},{'name': 'Natasha', 'age': 9}]\r\n",
        "# just get the names\r\n",
        "list(map(lambda x: x['name'], dict_a))"
      ],
      "execution_count": 30,
      "outputs": [
        {
          "output_type": "execute_result",
          "data": {
            "text/plain": [
              "['John', 'Sonia', 'Steven', 'Natasha']"
            ]
          },
          "metadata": {
            "tags": []
          },
          "execution_count": 30
        }
      ]
    },
    {
      "cell_type": "code",
      "metadata": {
        "colab": {
          "base_uri": "https://localhost:8080/"
        },
        "id": "tTLZ_phyYxj3",
        "outputId": "1c802922-8783-405b-d711-729342fb18d6"
      },
      "source": [
        "# just get the ages\r\n",
        "list(map(lambda x: x['age'], dict_a))"
      ],
      "execution_count": 31,
      "outputs": [
        {
          "output_type": "execute_result",
          "data": {
            "text/plain": [
              "[12, 10, 13, 9]"
            ]
          },
          "metadata": {
            "tags": []
          },
          "execution_count": 31
        }
      ]
    },
    {
      "cell_type": "code",
      "metadata": {
        "colab": {
          "base_uri": "https://localhost:8080/"
        },
        "id": "RaknIP7hY5gb",
        "outputId": "1e0b532e-d939-44ee-b515-ac2c5017a0e6"
      },
      "source": [
        "# ages sorted\r\n",
        "sorted(list(map(lambda x: x['age'], dict_a)))"
      ],
      "execution_count": 32,
      "outputs": [
        {
          "output_type": "execute_result",
          "data": {
            "text/plain": [
              "[9, 10, 12, 13]"
            ]
          },
          "metadata": {
            "tags": []
          },
          "execution_count": 32
        }
      ]
    },
    {
      "cell_type": "code",
      "metadata": {
        "colab": {
          "base_uri": "https://localhost:8080/"
        },
        "id": "OqNn71BKZBHX",
        "outputId": "127107a2-4dcd-4d60-cf5a-64f848a99c0e"
      },
      "source": [
        "# sort the whole dictionary by age\r\n",
        "sorted(dict_a, key=lambda x: x['age'])"
      ],
      "execution_count": 33,
      "outputs": [
        {
          "output_type": "execute_result",
          "data": {
            "text/plain": [
              "[{'age': 9, 'name': 'Natasha'},\n",
              " {'age': 10, 'name': 'Sonia'},\n",
              " {'age': 12, 'name': 'John'},\n",
              " {'age': 13, 'name': 'Steven'}]"
            ]
          },
          "metadata": {
            "tags": []
          },
          "execution_count": 33
        }
      ]
    },
    {
      "cell_type": "code",
      "metadata": {
        "colab": {
          "base_uri": "https://localhost:8080/"
        },
        "id": "AP_cwoMLZIK2",
        "outputId": "d05efcee-c35e-4293-afa1-235d9dffa468"
      },
      "source": [
        "# get youngest\r\n",
        "sorted(dict_a, key=lambda x: x['age'])[0]"
      ],
      "execution_count": 34,
      "outputs": [
        {
          "output_type": "execute_result",
          "data": {
            "text/plain": [
              "{'age': 9, 'name': 'Natasha'}"
            ]
          },
          "metadata": {
            "tags": []
          },
          "execution_count": 34
        }
      ]
    },
    {
      "cell_type": "code",
      "metadata": {
        "colab": {
          "base_uri": "https://localhost:8080/"
        },
        "id": "xj92DERpZNRT",
        "outputId": "9e18b703-85a0-4b75-a083-7ad44bc636da"
      },
      "source": [
        "# oldest's info\r\n",
        "sorted(dict_a, key=lambda x: x['age'])[-1]"
      ],
      "execution_count": 35,
      "outputs": [
        {
          "output_type": "execute_result",
          "data": {
            "text/plain": [
              "{'age': 13, 'name': 'Steven'}"
            ]
          },
          "metadata": {
            "tags": []
          },
          "execution_count": 35
        }
      ]
    },
    {
      "cell_type": "code",
      "metadata": {
        "colab": {
          "base_uri": "https://localhost:8080/"
        },
        "id": "Nu4luwGrZXVi",
        "outputId": "770054ee-b573-4763-cb2e-14762695e64c"
      },
      "source": [
        "# decending age\r\n",
        "sorted(dict_a, key=lambda x: x['age'], reverse =True)"
      ],
      "execution_count": 36,
      "outputs": [
        {
          "output_type": "execute_result",
          "data": {
            "text/plain": [
              "[{'age': 13, 'name': 'Steven'},\n",
              " {'age': 12, 'name': 'John'},\n",
              " {'age': 10, 'name': 'Sonia'},\n",
              " {'age': 9, 'name': 'Natasha'}]"
            ]
          },
          "metadata": {
            "tags": []
          },
          "execution_count": 36
        }
      ]
    },
    {
      "cell_type": "code",
      "metadata": {
        "colab": {
          "base_uri": "https://localhost:8080/"
        },
        "id": "MtBFJZxsZdnk",
        "outputId": "5bea8155-7925-4760-9490-9f78b9b77332"
      },
      "source": [
        "# sort by alpha names\r\n",
        "sorted(dict_a, key=lambda x: x['name'])"
      ],
      "execution_count": 37,
      "outputs": [
        {
          "output_type": "execute_result",
          "data": {
            "text/plain": [
              "[{'age': 12, 'name': 'John'},\n",
              " {'age': 9, 'name': 'Natasha'},\n",
              " {'age': 10, 'name': 'Sonia'},\n",
              " {'age': 13, 'name': 'Steven'}]"
            ]
          },
          "metadata": {
            "tags": []
          },
          "execution_count": 37
        }
      ]
    },
    {
      "cell_type": "code",
      "metadata": {
        "colab": {
          "base_uri": "https://localhost:8080/"
        },
        "id": "G2HxB8kfZqfW",
        "outputId": "4081fe05-3db5-4586-8a03-3e5c512b9189"
      },
      "source": [
        "# children over 10\r\n",
        "list(filter(lambda x: x['age'] > 10, dict_a))"
      ],
      "execution_count": 38,
      "outputs": [
        {
          "output_type": "execute_result",
          "data": {
            "text/plain": [
              "[{'age': 12, 'name': 'John'}, {'age': 13, 'name': 'Steven'}]"
            ]
          },
          "metadata": {
            "tags": []
          },
          "execution_count": 38
        }
      ]
    },
    {
      "cell_type": "code",
      "metadata": {
        "colab": {
          "base_uri": "https://localhost:8080/"
        },
        "id": "abVSXDf3ZxTi",
        "outputId": "2c2a12ce-5a88-4a7e-aac1-37786533db2b"
      },
      "source": [
        "# ages in 3 years\r\n",
        "list(map(lambda x: x['age']+3, dict_a))"
      ],
      "execution_count": 40,
      "outputs": [
        {
          "output_type": "execute_result",
          "data": {
            "text/plain": [
              "[15, 13, 16, 12]"
            ]
          },
          "metadata": {
            "tags": []
          },
          "execution_count": 40
        }
      ]
    }
  ]
}