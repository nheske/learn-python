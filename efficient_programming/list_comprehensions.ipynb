{
 "nbformat": 4,
 "nbformat_minor": 0,
 "metadata": {
  "colab": {
   "name": "list_comprehensions.ipynb",
   "provenance": [],
   "authorship_tag": "ABX9TyPgukMSajWpQjAd4+9wqlcx",
   "include_colab_link": true
  },
  "kernelspec": {
   "name": "python3",
   "language": "python",
   "display_name": "Python 3"
  }
 },
 "cells": [
  {
   "cell_type": "markdown",
   "metadata": {
    "id": "view-in-github",
    "colab_type": "text"
   },
   "source": [
    "<a href=\"https://colab.research.google.com/github/nheske/learn-python/blob/main/efficient_programming/list_comprehensions.ipynb\" target=\"_parent\"><img src=\"https://colab.research.google.com/assets/colab-badge.svg\" alt=\"Open In Colab\"/></a>"
   ]
  },
  {
   "cell_type": "code",
   "metadata": {
    "id": "GuAmGaDOsFr6"
   },
   "source": [
    "# List Comprehensions in Python  https://medium.com/analytics-vidhya/list-set-dictionary-comprehensions-in-python-8a0a7c06115e\r\n",
    "# article also has Set, Dictionary comprehensions\r\n",
    "# Comprehensions in Python:\r\n",
    "# The comprehension consists of a single expression followed by at least one for clause and zero or more for or if clauses.\r\n",
    "# Syntax:\r\n",
    "# [expression for item in iterable if conditional]"
   ],
   "execution_count": null,
   "outputs": []
  },
  {
   "cell_type": "code",
   "metadata": {
    "colab": {
     "base_uri": "https://localhost:8080/"
    },
    "id": "7NNip_IhuL8p",
    "outputId": "1a2f0b39-1a4d-4208-d60c-9112c715c64c"
   },
   "source": [
    "# 1. List comprehension vs for loop.\r\n",
    "#Using List Comprehension\r\n",
    "l2=[i*i for i in range(1,11)]\r\n",
    "print (l2)\r\n",
    "\r\n",
    "\r\n",
    "# Using for loop\r\n",
    "l1=[]\r\n",
    "for i in range(1,11):\r\n",
    "    a=i*i\r\n",
    "    l1.append(a)\r\n",
    "print (l1)  "
   ],
   "execution_count": 1,
   "outputs": [
    {
     "name": "stdout",
     "output_type": "stream",
     "text": [
      "[1, 4, 9, 16, 25, 36, 49, 64, 81, 100]\n",
      "[1, 4, 9, 16, 25, 36, 49, 64, 81, 100]\n"
     ]
    }
   ]
  },
  {
   "cell_type": "code",
   "metadata": {
    "colab": {
     "base_uri": "https://localhost:8080/"
    },
    "id": "JqmJ10rct225",
    "outputId": "f347b0f4-c07e-4854-adb3-d930cc20cfa1"
   },
   "source": [
    "# 2. List comprehension vs filter.\r\n",
    "#Using filter function\r\n",
    "evennumber=filter(lambda x: x%2==0,range(1,11))\r\n",
    "#filter() returns an iterator.\r\n",
    "print (evennumber) \r\n",
    "print (list(evennumber))\r\n",
    "\r\n",
    "#Using List Comprehension\r\n",
    "evenno=[n for n in range(1,11) if n%2==0]\r\n",
    "print (evenno)"
   ],
   "execution_count": 2,
   "outputs": [
    {
     "name": "stdout",
     "output_type": "stream",
     "text": [
      "<filter object at 0x000001FB8F0ECE80>\n",
      "[2, 4, 6, 8, 10]\n",
      "[2, 4, 6, 8, 10]\n"
     ]
    }
   ]
  },
  {
   "cell_type": "code",
   "metadata": {
    "colab": {
     "base_uri": "https://localhost:8080/"
    },
    "id": "5BK6qRW0s431",
    "outputId": "04b20a17-d423-486a-ba80-abfb97fc23be"
   },
   "source": [
    "# 3. List Comprehension vs map\r\n",
    "# Using map() function\r\n",
    "l1=map(lambda x:x*x,range(1,11))\r\n",
    "# Returns an iterator(map object)\r\n",
    "print (l1)\r\n",
    "print (list(l1))\r\n",
    "\r\n",
    "#Using List Comprehension\r\n",
    "l2=[x*x for x in range(1,11)]\r\n",
    "print (l2)"
   ],
   "execution_count": 2,
   "outputs": [
    {
     "output_type": "stream",
     "text": [
      "<map object at 0x7fbf843935f8>\n",
      "[1, 4, 9, 16, 25, 36, 49, 64, 81, 100]\n",
      "[1, 4, 9, 16, 25, 36, 49, 64, 81, 100]\n"
     ],
     "name": "stdout"
    }
   ]
  },
  {
   "cell_type": "code",
   "metadata": {
    "colab": {
     "base_uri": "https://localhost:8080/"
    },
    "id": "60Av8fuFuYrr",
    "outputId": "20ea1426-156d-4eef-9c13-2f26d4bd3e91"
   },
   "source": [
    "# 4. Nested loops in List Comprehension.\r\n",
    "l1=[[1,2,3],[4,5,6],[7,8,9]]\r\n",
    "l2=[num2 for num1 in l1 for num2 in num1]\r\n",
    "print (l2) "
   ],
   "execution_count": 6,
   "outputs": [
    {
     "output_type": "stream",
     "text": [
      "[1, 2, 3, 4, 5, 6, 7, 8, 9]\n"
     ],
     "name": "stdout"
    }
   ]
  },
  {
   "cell_type": "code",
   "metadata": {
    "colab": {
     "base_uri": "https://localhost:8080/"
    },
    "id": "Z0p3CRiosW-O",
    "outputId": "15936bf1-c84f-4047-eb44-48cf4e27205c"
   },
   "source": [
    "# 5.Multiple if condition in List Comprehension.\r\n",
    "l1=[1,2,3,4,5,6,7,8,9,10,11,12]\r\n",
    "l2=[n for n in l1 if n%2==0 if n%3==0]\r\n",
    "print (l2)#Output:[6, 12]"
   ],
   "execution_count": 7,
   "outputs": [
    {
     "output_type": "stream",
     "text": [
      "[6, 12]\n"
     ],
     "name": "stdout"
    }
   ]
  },
  {
   "cell_type": "code",
   "metadata": {
    "colab": {
     "base_uri": "https://localhost:8080/"
    },
    "id": "3Jsc6VL6vDmp",
    "outputId": "9d6b0122-c367-454a-d6c2-a377604c9ffd"
   },
   "source": [
    "# 6. The expression can be tuple in List Comprehension.\r\n",
    "a1=['red','green','blue']\r\n",
    "b1=[0,1,2]\r\n",
    "a2=[(a,b) for a in a1 for b in b1]\r\n",
    "print (a2)"
   ],
   "execution_count": 3,
   "outputs": [
    {
     "name": "stdout",
     "output_type": "stream",
     "text": [
      "[('red', 0), ('red', 1), ('red', 2), ('green', 0), ('green', 1), ('green', 2), ('blue', 0), ('blue', 1), ('blue', 2)]\n"
     ]
    }
   ]
  },
  {
   "cell_type": "code",
   "metadata": {
    "colab": {
     "base_uri": "https://localhost:8080/"
    },
    "id": "pFMC7dChvPdj",
    "outputId": "4b968985-255f-41da-fd67-c04869a0eee0"
   },
   "source": [
    "# 7. List comprehension can be used to call a method on each element.\r\n",
    "l1=[\"   a\",\"b  \",\"  c  \"]\r\n",
    "l2=[i.strip() for i in l1]\r\n",
    "print (l2)"
   ],
   "execution_count": 10,
   "outputs": [
    {
     "output_type": "stream",
     "text": [
      "['a', 'b', 'c']\n"
     ],
     "name": "stdout"
    }
   ]
  },
  {
   "cell_type": "code",
   "metadata": {
    "colab": {
     "base_uri": "https://localhost:8080/"
    },
    "id": "lum2idAivq0u",
    "outputId": "27982153-1005-42ae-91cd-18702ddeee64"
   },
   "source": [
    "# 8. List comprehension can contain complex expressions and nested functions.\r\n",
    "l1=[' 1',' 2']\r\n",
    "l2=[int(i.strip()) for i in l1]\r\n",
    "print (l2)"
   ],
   "execution_count": 12,
   "outputs": [
    {
     "output_type": "stream",
     "text": [
      "[1, 2]\n"
     ],
     "name": "stdout"
    }
   ]
  },
  {
   "cell_type": "code",
   "metadata": {
    "id": "amJmQxXDv4Kd"
   },
   "source": [
    "# 9. Nested List Comprehension\r\n",
    "l1=[[n for n in range(10) if n %2==0] for n1 in range(3)]\r\n",
    "print (l1)#Output:[[0, 2, 4, 6, 8], [0, 2, 4, 6, 8], [0, 2, 4, 6, 8]]"
   ],
   "execution_count": null,
   "outputs": []
  }
 ]
}